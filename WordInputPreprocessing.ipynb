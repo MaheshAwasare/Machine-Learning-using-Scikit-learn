{
    "nbformat_minor": 1, 
    "cells": [
        {
            "execution_count": 2, 
            "cell_type": "code", 
            "metadata": {}, 
            "outputs": [
                {
                    "output_type": "stream", 
                    "name": "stdout", 
                    "text": "{'firstfloor': 0, 'secondfloor': 1}\n[ 1.  1.]\n(1, 2)\n[[ 0.70710678  0.70710678]]\n"
                }
            ], 
            "source": "from sklearn.feature_extraction.text import TfidfVectorizer\n# list of text documents\ntext = [\"FIRSTFLOOR,SECONDFLOOR\"]\n# create the transform\nvectorizer = TfidfVectorizer()\n# tokenize and build vocab\nvectorizer.fit(text)\n# summarize\nprint(vectorizer.vocabulary_)\nprint(vectorizer.idf_)\n# encode document\nvector = vectorizer.transform([text[0]])\n# summarize encoded vector\nprint(vector.shape)\nprint(vector.toarray())"
        }, 
        {
            "execution_count": null, 
            "cell_type": "code", 
            "metadata": {}, 
            "outputs": [], 
            "source": ""
        }
    ], 
    "metadata": {
        "kernelspec": {
            "display_name": "Python 3.5", 
            "name": "python3", 
            "language": "python"
        }, 
        "language_info": {
            "mimetype": "text/x-python", 
            "nbconvert_exporter": "python", 
            "version": "3.5.5", 
            "name": "python", 
            "file_extension": ".py", 
            "pygments_lexer": "ipython3", 
            "codemirror_mode": {
                "version": 3, 
                "name": "ipython"
            }
        }
    }, 
    "nbformat": 4
}