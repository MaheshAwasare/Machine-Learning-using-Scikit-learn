{
    "nbformat_minor": 1, 
    "cells": [
        {
            "source": "\n\n    \nimport pandas as pd  \n    \n# List1  \nSalesman = ['tom', 'krish', 'nick', 'juli','tom', 'krish', 'nick', 'juli','tom', 'krish', 'nick', 'juli','tom', 'krish', 'nick', 'juli']  \n    \n\n\n# List2  \nBuyerAge = [15,20,30,65,18,20,22,15,19,20,65,60,16,20,55,60]  \n\n\n# List3 \nsaleDone = [1,0,1,1,1,0,1,0,1,0,1,1,0,1,1,1]  \n    \n    \n# get the list of tuples from two lists.  \n# and merge them by using zip().  \nlist_of_tuples = list(zip(Salesman,BuyerAge,saleDone))  \n# Assign data to tuples.  \nlist_of_tuples   \n  \n  \n# Converting lists of tuples into  \n# pandas Dataframe.  \ndf = pd.DataFrame(list_of_tuples, columns = ['Salesman','BuyerAge','saleDone'])  \n     \n# Print data.  \ndf  ", 
            "cell_type": "code", 
            "metadata": {}, 
            "outputs": [
                {
                    "output_type": "execute_result", 
                    "data": {
                        "text/html": "<div>\n<style scoped>\n    .dataframe tbody tr th:only-of-type {\n        vertical-align: middle;\n    }\n\n    .dataframe tbody tr th {\n        vertical-align: top;\n    }\n\n    .dataframe thead th {\n        text-align: right;\n    }\n</style>\n<table border=\"1\" class=\"dataframe\">\n  <thead>\n    <tr style=\"text-align: right;\">\n      <th></th>\n      <th>Salesman</th>\n      <th>BuyerAge</th>\n      <th>saleDone</th>\n    </tr>\n  </thead>\n  <tbody>\n    <tr>\n      <th>0</th>\n      <td>tom</td>\n      <td>15</td>\n      <td>1</td>\n    </tr>\n    <tr>\n      <th>1</th>\n      <td>krish</td>\n      <td>20</td>\n      <td>0</td>\n    </tr>\n    <tr>\n      <th>2</th>\n      <td>nick</td>\n      <td>30</td>\n      <td>1</td>\n    </tr>\n    <tr>\n      <th>3</th>\n      <td>juli</td>\n      <td>65</td>\n      <td>1</td>\n    </tr>\n    <tr>\n      <th>4</th>\n      <td>tom</td>\n      <td>18</td>\n      <td>1</td>\n    </tr>\n    <tr>\n      <th>5</th>\n      <td>krish</td>\n      <td>20</td>\n      <td>0</td>\n    </tr>\n    <tr>\n      <th>6</th>\n      <td>nick</td>\n      <td>22</td>\n      <td>1</td>\n    </tr>\n    <tr>\n      <th>7</th>\n      <td>juli</td>\n      <td>15</td>\n      <td>0</td>\n    </tr>\n    <tr>\n      <th>8</th>\n      <td>tom</td>\n      <td>19</td>\n      <td>1</td>\n    </tr>\n    <tr>\n      <th>9</th>\n      <td>krish</td>\n      <td>20</td>\n      <td>0</td>\n    </tr>\n    <tr>\n      <th>10</th>\n      <td>nick</td>\n      <td>65</td>\n      <td>1</td>\n    </tr>\n    <tr>\n      <th>11</th>\n      <td>juli</td>\n      <td>60</td>\n      <td>1</td>\n    </tr>\n    <tr>\n      <th>12</th>\n      <td>tom</td>\n      <td>16</td>\n      <td>0</td>\n    </tr>\n    <tr>\n      <th>13</th>\n      <td>krish</td>\n      <td>20</td>\n      <td>1</td>\n    </tr>\n    <tr>\n      <th>14</th>\n      <td>nick</td>\n      <td>55</td>\n      <td>1</td>\n    </tr>\n    <tr>\n      <th>15</th>\n      <td>juli</td>\n      <td>60</td>\n      <td>1</td>\n    </tr>\n  </tbody>\n</table>\n</div>", 
                        "text/plain": "   Salesman  BuyerAge  saleDone\n0       tom        15         1\n1     krish        20         0\n2      nick        30         1\n3      juli        65         1\n4       tom        18         1\n5     krish        20         0\n6      nick        22         1\n7      juli        15         0\n8       tom        19         1\n9     krish        20         0\n10     nick        65         1\n11     juli        60         1\n12      tom        16         0\n13    krish        20         1\n14     nick        55         1\n15     juli        60         1"
                    }, 
                    "execution_count": 2, 
                    "metadata": {}
                }
            ], 
            "execution_count": 2
        }, 
        {
            "source": "# import the seaborn module\nimport seaborn as sns\n# import the matplotlib module\nimport matplotlib.pyplot as plt\n# set the background colour of the plot to white\nsns.set(style=\"whitegrid\", color_codes=True)\n# setting the plot size for all plots\nsns.set(rc={'figure.figsize':(11.7,8.27)})\n# create a countplot\nsns.countplot('Salesman',data=df,hue = 'saleDone')\n# Remove the top and down margin\nsns.despine(offset=10, trim=True)\n# display the plotplt.show()", 
            "cell_type": "code", 
            "metadata": {}, 
            "outputs": [
                {
                    "output_type": "stream", 
                    "name": "stderr", 
                    "text": "/opt/conda/envs/DSX-Python35/lib/python3.5/site-packages/seaborn/categorical.py:1508: FutureWarning: remove_na is deprecated and is a private function. Do not use.\n  stat_data = remove_na(group_data[hue_mask])\n"
                }, 
                {
                    "output_type": "display_data", 
                    "data": {
                        "image/png": "[encoded data removed]", 
                        "text/plain": "<matplotlib.figure.Figure at 0x7ff5dd4c2908>"
                    }, 
                    "metadata": {}
                }
            ], 
            "execution_count": 3
        }, 
        {
            "source": "#import the necessary module\nfrom sklearn import preprocessing\n# create the Labelencoder object\nle = preprocessing.LabelEncoder()\n#convert the categorical columns into numeric", 
            "cell_type": "code", 
            "metadata": {}, 
            "outputs": [], 
            "execution_count": 4
        }, 
        {
            "source": "df['Salesman'] = le.fit_transform(df['Salesman'])", 
            "cell_type": "code", 
            "metadata": {}, 
            "outputs": [], 
            "execution_count": 5
        }, 
        {
            "source": "df.head()", 
            "cell_type": "code", 
            "metadata": {}, 
            "outputs": [
                {
                    "output_type": "execute_result", 
                    "data": {
                        "text/html": "<div>\n<style scoped>\n    .dataframe tbody tr th:only-of-type {\n        vertical-align: middle;\n    }\n\n    .dataframe tbody tr th {\n        vertical-align: top;\n    }\n\n    .dataframe thead th {\n        text-align: right;\n    }\n</style>\n<table border=\"1\" class=\"dataframe\">\n  <thead>\n    <tr style=\"text-align: right;\">\n      <th></th>\n      <th>Salesman</th>\n      <th>BuyerAge</th>\n      <th>saleDone</th>\n    </tr>\n  </thead>\n  <tbody>\n    <tr>\n      <th>0</th>\n      <td>3</td>\n      <td>15</td>\n      <td>1</td>\n    </tr>\n    <tr>\n      <th>1</th>\n      <td>1</td>\n      <td>20</td>\n      <td>0</td>\n    </tr>\n    <tr>\n      <th>2</th>\n      <td>2</td>\n      <td>30</td>\n      <td>1</td>\n    </tr>\n    <tr>\n      <th>3</th>\n      <td>0</td>\n      <td>65</td>\n      <td>1</td>\n    </tr>\n    <tr>\n      <th>4</th>\n      <td>3</td>\n      <td>18</td>\n      <td>1</td>\n    </tr>\n  </tbody>\n</table>\n</div>", 
                        "text/plain": "   Salesman  BuyerAge  saleDone\n0         3        15         1\n1         1        20         0\n2         2        30         1\n3         0        65         1\n4         3        18         1"
                    }, 
                    "execution_count": 11, 
                    "metadata": {}
                }
            ], 
            "execution_count": 11
        }, 
        {
            "source": "inputcols = [c for c in df.columns if c not in ['saleDone']]\ninputcols", 
            "cell_type": "code", 
            "metadata": {}, 
            "outputs": [
                {
                    "output_type": "execute_result", 
                    "data": {
                        "text/plain": "['Salesman', 'BuyerAge']"
                    }, 
                    "execution_count": 17, 
                    "metadata": {}
                }
            ], 
            "execution_count": 17
        }, 
        {
            "source": "y = df['saleDone']", 
            "cell_type": "code", 
            "metadata": {}, 
            "outputs": [], 
            "execution_count": 15
        }, 
        {
            "source": "X= df[inputcols]", 
            "cell_type": "code", 
            "metadata": {}, 
            "outputs": [], 
            "execution_count": 18
        }, 
        {
            "source": "\nfrom sklearn.model_selection import train_test_split\n\nX_train,X_test,y_train,y_test = train_test_split(X,y,test_size=0.20,random_state=10)\n", 
            "cell_type": "code", 
            "metadata": {}, 
            "outputs": [], 
            "execution_count": 20
        }, 
        {
            "source": "from sklearn.naive_bayes import GaussianNB\nfrom sklearn.metrics import accuracy_score\n\ngnb = GaussianNB()\nmodel = gnb.fit(X_train,y_train)\n", 
            "cell_type": "code", 
            "metadata": {}, 
            "outputs": [], 
            "execution_count": 21
        }, 
        {
            "source": "X_test ", 
            "cell_type": "code", 
            "metadata": {}, 
            "outputs": [
                {
                    "output_type": "execute_result", 
                    "data": {
                        "text/html": "<div>\n<style scoped>\n    .dataframe tbody tr th:only-of-type {\n        vertical-align: middle;\n    }\n\n    .dataframe tbody tr th {\n        vertical-align: top;\n    }\n\n    .dataframe thead th {\n        text-align: right;\n    }\n</style>\n<table border=\"1\" class=\"dataframe\">\n  <thead>\n    <tr style=\"text-align: right;\">\n      <th></th>\n      <th>Salesman</th>\n      <th>BuyerAge</th>\n    </tr>\n  </thead>\n  <tbody>\n    <tr>\n      <th>5</th>\n      <td>1</td>\n      <td>20</td>\n    </tr>\n    <tr>\n      <th>3</th>\n      <td>0</td>\n      <td>65</td>\n    </tr>\n    <tr>\n      <th>14</th>\n      <td>2</td>\n      <td>55</td>\n    </tr>\n    <tr>\n      <th>7</th>\n      <td>0</td>\n      <td>15</td>\n    </tr>\n  </tbody>\n</table>\n</div>", 
                        "text/plain": "    Salesman  BuyerAge\n5          1        20\n3          0        65\n14         2        55\n7          0        15"
                    }, 
                    "execution_count": 23, 
                    "metadata": {}
                }
            ], 
            "execution_count": 23
        }, 
        {
            "source": "y_test", 
            "cell_type": "code", 
            "metadata": {}, 
            "outputs": [
                {
                    "output_type": "execute_result", 
                    "data": {
                        "text/plain": "5     0\n3     1\n14    1\n7     0\nName: saleDone, dtype: int64"
                    }, 
                    "execution_count": 24, 
                    "metadata": {}
                }
            ], 
            "execution_count": 24
        }, 
        {
            "source": "output =model.predict(X_test.iloc[1].reshape(1,-1))\n\noutput[0]", 
            "cell_type": "code", 
            "metadata": {}, 
            "outputs": [
                {
                    "output_type": "stream", 
                    "name": "stderr", 
                    "text": "/opt/conda/envs/DSX-Python35/lib/python3.5/site-packages/ipykernel/__main__.py:1: FutureWarning: reshape is deprecated and will raise in a subsequent release. Please use .values.reshape(...) instead\n  if __name__ == '__main__':\n"
                }, 
                {
                    "output_type": "execute_result", 
                    "data": {
                        "text/plain": "1"
                    }, 
                    "execution_count": 34, 
                    "metadata": {}
                }
            ], 
            "execution_count": 34
        }, 
        {
            "source": "", 
            "cell_type": "code", 
            "metadata": {}, 
            "outputs": [], 
            "execution_count": null
        }
    ], 
    "metadata": {
        "kernelspec": {
            "display_name": "Python 3.5", 
            "name": "python3", 
            "language": "python"
        }, 
        "language_info": {
            "mimetype": "text/x-python", 
            "nbconvert_exporter": "python", 
            "version": "3.5.5", 
            "name": "python", 
            "file_extension": ".py", 
            "pygments_lexer": "ipython3", 
            "codemirror_mode": {
                "version": 3, 
                "name": "ipython"
            }
        }
    }, 
    "nbformat": 4
}